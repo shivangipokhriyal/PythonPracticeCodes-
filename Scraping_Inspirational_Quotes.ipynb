{
  "nbformat": 4,
  "nbformat_minor": 0,
  "metadata": {
    "colab": {
      "provenance": [],
      "authorship_tag": "ABX9TyPxKDgwR3PhaJwKtA4VqZ/4"
    },
    "kernelspec": {
      "name": "python3",
      "display_name": "Python 3"
    },
    "language_info": {
      "name": "python"
    }
  },
  "cells": [
    {
      "cell_type": "code",
      "execution_count": 1,
      "metadata": {
        "id": "jVoMF-jK7Qne"
      },
      "outputs": [],
      "source": [
        "import requests\n",
        "import bs4"
      ]
    },
    {
      "cell_type": "code",
      "source": [
        "url = \"https://www.passiton.com/inspirational-quotes\"\n",
        "res = requests.get(url)\n",
        "res.status_code"
      ],
      "metadata": {
        "colab": {
          "base_uri": "https://localhost:8080/"
        },
        "id": "QhpVbnYw7Uzy",
        "outputId": "c8724088-8854-4264-b549-7f983474b8f5"
      },
      "execution_count": 2,
      "outputs": [
        {
          "output_type": "execute_result",
          "data": {
            "text/plain": [
              "200"
            ]
          },
          "metadata": {},
          "execution_count": 2
        }
      ]
    },
    {
      "cell_type": "code",
      "source": [
        "data = res.content\n",
        "soup = bs4.BeautifulSoup(data,'html.parser')\n",
        "box = soup.find('div',attrs={\"id\":\"all_quotes\",\"class\":\"row\"})"
      ],
      "metadata": {
        "id": "afdKmAcu7eR4"
      },
      "execution_count": 21,
      "outputs": []
    },
    {
      "cell_type": "code",
      "source": [
        "imgs = box.find_all('img')\n",
        "imgs[0]"
      ],
      "metadata": {
        "colab": {
          "base_uri": "https://localhost:8080/"
        },
        "id": "L5EvXMtQ75v0",
        "outputId": "cb5200c3-122c-40bb-9338-645931f14b53"
      },
      "execution_count": 22,
      "outputs": [
        {
          "output_type": "execute_result",
          "data": {
            "text/plain": [
              "<img alt=\"As we work to create light for others, we naturally light our own way. #&lt;Author:0x0000555793899a50&gt;\" class=\"margin-10px-bottom shadow\" height=\"310\" src=\"https://assets.passiton.com/quotes/quote_artwork/8399/medium/20231116_thursday_quote.jpg\" width=\"310\"/>"
            ]
          },
          "metadata": {},
          "execution_count": 22
        }
      ]
    },
    {
      "cell_type": "code",
      "source": [
        "len(imgs)"
      ],
      "metadata": {
        "colab": {
          "base_uri": "https://localhost:8080/"
        },
        "id": "13ejxNNx8Fzl",
        "outputId": "2de2c476-6189-48b2-9562-20224bdcfd49"
      },
      "execution_count": 24,
      "outputs": [
        {
          "output_type": "execute_result",
          "data": {
            "text/plain": [
              "33"
            ]
          },
          "metadata": {},
          "execution_count": 24
        }
      ]
    },
    {
      "cell_type": "code",
      "source": [
        "imgs[0].attrs['src']"
      ],
      "metadata": {
        "colab": {
          "base_uri": "https://localhost:8080/",
          "height": 36
        },
        "id": "EQZkxmND9IpP",
        "outputId": "1c572b77-8812-46ba-c72f-8680d4503868"
      },
      "execution_count": 30,
      "outputs": [
        {
          "output_type": "execute_result",
          "data": {
            "text/plain": [
              "'https://assets.passiton.com/quotes/quote_artwork/8399/medium/20231116_thursday_quote.jpg'"
            ],
            "application/vnd.google.colaboratory.intrinsic+json": {
              "type": "string"
            }
          },
          "metadata": {},
          "execution_count": 30
        }
      ]
    },
    {
      "cell_type": "markdown",
      "source": [
        "## Scraping all Images"
      ],
      "metadata": {
        "id": "5MsVJgpn9SyP"
      }
    },
    {
      "cell_type": "code",
      "source": [
        "for idx,i in enumerate(imgs):\n",
        "  img_url = i.attrs['src']\n",
        "  res = requests.get(img_url)\n",
        "  img_content = res.content\n",
        "\n",
        "  with open(f'images/quotes_{idx}.jpg','wb') as f1:\n",
        "    f1.write(img_content)"
      ],
      "metadata": {
        "id": "6AxOCZ2h9Vz8"
      },
      "execution_count": null,
      "outputs": []
    }
  ]
}